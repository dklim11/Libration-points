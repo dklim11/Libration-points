{
 "cells": [
  {
   "cell_type": "code",
   "execution_count": 49,
   "id": "5f282140",
   "metadata": {},
   "outputs": [],
   "source": [
    "import numpy as np\n",
    "import scipy.integrate as sci\n",
    "import matplotlib.pyplot as plt\n",
    "from scipy.optimize import fsolve\n",
    "import matplotlib.ticker as ticker"
   ]
  },
  {
   "cell_type": "markdown",
   "id": "68ec2b6a",
   "metadata": {},
   "source": [
    "The distance from $L_2$ to the baricenter of sistem is given by the positive solution of the following equation:\n",
    "$$\\gamma - (1 - \\mu)/(\\gamma + \\mu)^2 - \\mu/(\\gamma - 1 + \\mu)^2 = 0,$$\n",
    "\n",
    "$$\\mu = \\frac{M_s}{M_p + M_s},$$\n",
    "where $M_p$ and $M_s$ denote the masses of the primary and the secondary (smaller of the two primaries) body, respectively.\n",
    "\n",
    "The equations of motion in the barycentric reference frame (nondimentionlized):\n",
    "\\begin{align}\n",
    "\\ddot{x} - 2\\dot{y} - x &= - \\frac{(1-\\mu)(x+\\mu)}{r_p^3} - \\frac{\\mu(x-(1-\\mu))}{r_s^3}, \\\\\n",
    "\\ddot{y} + 2\\dot{x} - y &= - \\frac{(1-\\mu)y}{r_p^3} - \\frac{\\mu y}{r_s^3}, \\\\\n",
    "\\ddot{z} &= - \\frac{(1-\\mu)z}{r_p^3} - \\frac{\\mu z}{r_s^3},\n",
    "\\end{align}\n",
    "where\n",
    "$$r_p = \\sqrt{(x+\\mu)^2 + y^2 + z^2}, \\quad r_s = \\sqrt{(x-(1-\\mu))^2 + y^2 + z^2}$$, according to [1]\n",
    "\n",
    "The distance between the two primaries is 1, the reference frame origin is based in the system's baricenter.\n",
    "The conversion from units of distance, velocity, and time in the unprimed, normalized system to the primed, dimensionalized system is:\n",
    "\\begin{align}\n",
    "d' &= L\\cdot d, \\\\\n",
    "s' &= V\\cdot s, \\\\\n",
    "t' &= \\frac{T}{2\\pi}t,\n",
    "\\end{align}\n",
    "where where $L$ is the distance between the centers of $M_P$ and $M_S$, $V$ is the orbital velocity of $M_S$, $T$ is the orbital period of $M_P$ and $M_S$.\n",
    "\n",
    "The following constants (for the Earth-Moon system) are used below:\n",
    "    $$\\mu = 1.215\\cdot10^{-2},  [1]$$\n",
    "    $$T = 2.361\\cdot10^{6},  [1]$$\n",
    "    $$L_2 = 1.556825,  [2]$$\n",
    "\n",
    "\n",
    "In the last frame we check the behaviour of energy relative mistake: as you can see, computing deffects are negligible. \n",
    "\n",
    "[1] Dynamical Systems, the Three-Body Problem and Space Mission Design, http://www.cds.caltech.edu/~marsden/volume/missiondesign/KoLoMaRo_DMissionBk.pdf\n",
    "\n",
    "[2] Libration point orbits and manifolds: design and station-keeping, \n",
    "http://www.mathnet.ru/links/d214da1304703fe544f855e9ed635481/ipmp1942.pdf\n"
   ]
  },
  {
   "cell_type": "code",
   "execution_count": 50,
   "id": "fed91a4d",
   "metadata": {},
   "outputs": [],
   "source": [
    "class Characteristics(object):\n",
    "    pass\n",
    "\n",
    "param = Characteristics()\n",
    "param.mu = 1.215*1e-2\n",
    "\n",
    "time = Characteristics()\n",
    "time.begin = 0\n",
    "time.end = 20\n",
    "time.dt = 0.05"
   ]
  },
  {
   "cell_type": "markdown",
   "id": "c8158320",
   "metadata": {},
   "source": [
    "## Following equation computes the x-coordinate of L2 in reference frame for Earth-Moon system"
   ]
  },
  {
   "cell_type": "code",
   "execution_count": 51,
   "id": "61ff67b7",
   "metadata": {},
   "outputs": [
    {
     "data": {
      "text/plain": [
       "1.1678299130947354"
      ]
     },
     "execution_count": 51,
     "metadata": {},
     "output_type": "execute_result"
    }
   ],
   "source": [
    "def get_L2_quintic(mu):\n",
    "    def quintic_L2(x):\n",
    "        return x - (1 - param.mu)/(x + param.mu)**2 - param.mu/(x - 1 + param.mu)**2\n",
    "        \n",
    "    root = fsolve(quintic_L2, 1 + mu, xtol=1e-10)\n",
    "    return root[0] \n",
    "\n",
    "get_L2_quintic(param.mu) + param.mu"
   ]
  },
  {
   "cell_type": "code",
   "execution_count": 56,
   "id": "cfc8e192",
   "metadata": {},
   "outputs": [],
   "source": [
    "def ode(t, r, param):\n",
    "    x = r[0]\n",
    "    y = r[1]\n",
    "    z = r[2]\n",
    "    v_x = r[3]\n",
    "    v_y = r[4]\n",
    "    v_z = r[5]\n",
    "    \n",
    "    r10 = [x + param.mu, y, z]\n",
    "    r20 = [x + param.mu - 1, y, z]\n",
    "    r1 = np.linalg.norm(r10)\n",
    "    r2 = np.linalg.norm(r20)\n",
    "    \n",
    "    dxdt = np.zeros(6)\n",
    "    dxdt[:3] = [v_x, v_y, v_z]\n",
    "    dxdt[3] = 2 * v_y + x - (1 - param.mu)*(x + param.mu)/(r1**3) - param.mu*(x - 1 + param.mu)/(r2**3)\n",
    "    dxdt[4] = -2 * v_x + y - (1 - param.mu)*y/(r1**3) - param.mu*y/(r2**3)\n",
    "    dxdt[5] = -(1 - param.mu)*z/(r1**3) - param.mu*z/(r2**3)\n",
    "\n",
    "    return dxdt\n",
    "    \n",
    "rP_0 = [get_L2_quintic(param.mu), 0, 0]\n",
    "vP_0 = [0, 0, 0]\n",
    "r_0 = rP_0 + vP_0\n",
    "\n",
    "t_sol = np.arange(time.begin, time.end, time.dt)\n",
    "\n",
    "solution = sci.solve_ivp(lambda t, r: ode(t, r, param), (time.begin, time.end), r_0, t_eval = t_sol, atol = 1e-11, rtol = 1e-11)\n",
    "\n",
    "r_sol = solution.y.T"
   ]
  },
  {
   "cell_type": "markdown",
   "id": "234d1519",
   "metadata": {},
   "source": [
    "## On the next graph we are plotting the result of computing the equations for the start-up conditions, given in the previous frame "
   ]
  },
  {
   "cell_type": "code",
   "execution_count": 61,
   "id": "807bb9f2",
   "metadata": {},
   "outputs": [
    {
     "data": {
      "image/png": "[encoded data removed]",
      "text/plain": [
       "<Figure size 432x288 with 3 Axes>"
      ]
     },
     "metadata": {
      "needs_background": "light"
     },
     "output_type": "display_data"
    }
   ],
   "source": [
    "fig, axs = plt.subplots(3)\n",
    "fig.suptitle('Coordinates as functions of time')\n",
    "axs[0].plot(t_sol, r_sol[:, 0])\n",
    "axs[0].set_title('x')\n",
    "axs[1].plot(t_sol, r_sol[:, 1])\n",
    "axs[1].set_title('y')\n",
    "axs[2].plot(t_sol, r_sol[:, 2])\n",
    "axs[2].set_title('z')\n",
    "\n",
    "plt.ylim(-1e-12, 1e-12)\n",
    "plt.tight_layout()"
   ]
  },
  {
   "cell_type": "markdown",
   "id": "d3222028",
   "metadata": {},
   "source": [
    "## Here we plot the velocity components on axes x, y, z."
   ]
  },
  {
   "cell_type": "code",
   "execution_count": 62,
   "id": "bec83a74",
   "metadata": {},
   "outputs": [
    {
     "data": {
      "image/png": "[encoded data removed]",
      "text/plain": [
       "<Figure size 432x288 with 3 Axes>"
      ]
     },
     "metadata": {
      "needs_background": "light"
     },
     "output_type": "display_data"
    }
   ],
   "source": [
    "fig, axs = plt.subplots(3)\n",
    "fig.suptitle('Velocities as functions of time')\n",
    "axs[0].plot(t_sol, r_sol[:, 3])\n",
    "axs[0].set_title('Vx')\n",
    "axs[1].plot(t_sol, r_sol[:, 4])\n",
    "axs[1].set_title('Vy')\n",
    "axs[2].plot(t_sol, r_sol[:, 5])\n",
    "axs[2].set_title('Vz')\n",
    "\n",
    "plt.ylim(-1e-12, 1e-12)\n",
    "plt.tight_layout()"
   ]
  },
  {
   "cell_type": "markdown",
   "id": "cbc65657",
   "metadata": {},
   "source": [
    "## Jacobi Integral\n",
    "\n",
    "<font size=\"3\">The equations of motion admit the first integral known as Jacobi integral, which is given by:</font>\n",
    "\n",
    "### $C = v_x^2 + v_y^2 + v_z^2 - 2U.$\n",
    "\n",
    "<font size=\"3\"> The plot below shows the relative error of $C$.</font>"
   ]
  },
  {
   "cell_type": "code",
   "execution_count": 63,
   "id": "ea880579",
   "metadata": {},
   "outputs": [
    {
     "data": {
      "text/plain": [
       "(-1e-15, 1e-15)"
      ]
     },
     "execution_count": 63,
     "metadata": {},
     "output_type": "execute_result"
    },
    {
     "data": {
      "image/png": "[encoded data removed]",
      "text/plain": [
       "<Figure size 432x288 with 1 Axes>"
      ]
     },
     "metadata": {
      "needs_background": "light"
     },
     "output_type": "display_data"
    }
   ],
   "source": [
    "U = np.zeros(np.size(t_sol))\n",
    "Relative = np.zeros(np.size(t_sol))\n",
    "\n",
    "for i in range(np.size(t_sol)):\n",
    "    x = r_sol[i][0]\n",
    "    y = r_sol[i][1]\n",
    "    z = r_sol[i][2]\n",
    "    v_x = r_sol[i][3]\n",
    "    v_y = r_sol[i][4]\n",
    "    v_z = r_sol[i][5]\n",
    "    r10 = [x + param.mu, y, z]\n",
    "    r20 = [x + param.mu - 1, y, z]\n",
    "    r1 = np.linalg.norm(r10)\n",
    "    r2 = np.linalg.norm(r20)\n",
    "    U[i] = -0.5*((1 - param.mu)*(r1**2) + param.mu*(r2**2)) - (1 - param.mu)/r1 - param.mu/r2\n",
    "    C = -(v_x**2 + v_y**2 + v_z**2) - 2*U[i]\n",
    "    if i == 0:\n",
    "        C_0 = C\n",
    "    Relative[i] = (C-C_0)/C_0\n",
    "    \n",
    "    \n",
    "plt.plot(t_sol, Relative)\n",
    "plt.suptitle('Jacobi Integral')\n",
    "plt.xlabel('Time')\n",
    "plt.ticklabel_format(useOffset = False)\n",
    "plt.ylim(-1e-15, 1e-15)"
   ]
  },
  {
   "cell_type": "code",
   "execution_count": 10,
   "id": "10a8644d",
   "metadata": {},
   "outputs": [
    {
     "data": {
      "text/plain": [
       "0.05463059313215401"
      ]
     },
     "execution_count": 10,
     "metadata": {},
     "output_type": "execute_result"
    }
   ],
   "source": [
    "21000/384400"
   ]
  },
  {
   "cell_type": "code",
   "execution_count": 11,
   "id": "2c6c6740",
   "metadata": {},
   "outputs": [
    {
     "data": {
      "text/plain": [
       "0.02601391779396462"
      ]
     },
     "execution_count": 11,
     "metadata": {},
     "output_type": "execute_result"
    }
   ],
   "source": [
    "9999.75/384400"
   ]
  },
  {
   "cell_type": "code",
   "execution_count": 12,
   "id": "768ac4e1",
   "metadata": {},
   "outputs": [
    {
     "name": "stdout",
     "output_type": "stream",
     "text": [
      "[[ 1.15567991e+00  0.00000000e+00  0.00000000e+00  0.00000000e+00\n",
      "   0.00000000e+00  0.00000000e+00]\n",
      " [ 1.15567991e+00 -6.93474975e-21  0.00000000e+00  8.32667268e-18\n",
      "  -4.16143152e-19  0.00000000e+00]\n",
      " [ 1.15567991e+00 -5.54502662e-20  0.00000000e+00  1.66533454e-17\n",
      "  -1.66229718e-18  0.00000000e+00]\n",
      " ...\n",
      " [ 1.15567991e+00 -3.90007506e-12  0.00000000e+00  1.00716672e-11\n",
      "   3.64717836e-12  0.00000000e+00]\n",
      " [ 1.15567991e+00 -3.84677554e-12  0.00000000e+00  1.07467868e-11\n",
      "   2.93998985e-12  0.00000000e+00]\n",
      " [ 1.15567991e+00 -3.78683900e-12  0.00000000e+00  1.14447695e-11\n",
      "   2.19269519e-12  0.00000000e+00]]\n"
     ]
    }
   ],
   "source": [
    "print(r_sol)"
   ]
  },
  {
   "cell_type": "code",
   "execution_count": null,
   "id": "b04d28db",
   "metadata": {},
   "outputs": [],
   "source": []
  }
 ],
 "metadata": {
  "kernelspec": {
   "display_name": "Python 3",
   "language": "python",
   "name": "python3"
  },
  "language_info": {
   "codemirror_mode": {
    "name": "ipython",
    "version": 3
   },
   "file_extension": ".py",
   "mimetype": "text/x-python",
   "name": "python",
   "nbconvert_exporter": "python",
   "pygments_lexer": "ipython3",
   "version": "3.8.8"
  }
 },
 "nbformat": 4,
 "nbformat_minor": 5
}
